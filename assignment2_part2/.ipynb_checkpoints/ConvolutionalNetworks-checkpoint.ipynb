{
 "cells": [
  {
   "cell_type": "markdown",
   "metadata": {},
   "source": [
    "#Comment this block if you are NOT using colabVM\n",
    "\n",
    "# This mounts your Google Drive to the Colab VM.\n",
    "from google.colab import drive\n",
    "drive.mount('/content/drive')\n",
    "\n",
    "# TODO: Enter the foldername in your Drive where you have saved the unzipped\n",
    "# assignment folder, e.g. 'cs6353/assignments/assignment1/'\n",
    "FOLDERNAME = None\n",
    "assert FOLDERNAME is not None, \"[!] Enter the foldername.\"\n",
    "\n",
    "# Now that we've mounted your Drive, this ensures that\n",
    "# the Python interpreter of the Colab VM can load\n",
    "# python files from within it.\n",
    "import sys\n",
    "sys.path.append('/content/drive/My Drive/{}'.format(FOLDERNAME))\n",
    "\n",
    "# This downloads the CIFAR-10 dataset to your Drive\n",
    "# if it doesn't already exist.\n",
    "%cd /content/drive/My\\ Drive/$FOLDERNAME/cs6353/datasets/\n",
    "!bash get_datasets.sh\n",
    "%cd /content/drive/My\\ Drive/$FOLDERNAME"
   ]
  },
  {
   "cell_type": "code",
   "execution_count": 2,
   "metadata": {},
   "outputs": [
    {
     "name": "stdout",
     "output_type": "stream",
     "text": [
      "Chosen GPU: 0\n"
     ]
    }
   ],
   "source": [
    "#UNCOMMENT IF USING CADE\n",
    "import os\n",
    "##### Request a GPU #####\n",
    "## This function locates an available gpu for usage. In addition, this function reserves a specificed\n",
    "## memory space exclusively for your account. The memory reservation prevents the decrement in computational\n",
    "## speed when other users try to allocate memory on the same gpu in the shared systems, i.e., CADE machines. \n",
    "## Note: If you use your own system which has a GPU with less than 4GB of memory, remember to change the \n",
    "## specified mimimum memory.\n",
    "def define_gpu_to_use(minimum_memory_mb = 3500):    \n",
    "    thres_memory = 600 #\n",
    "    gpu_to_use = None\n",
    "    try: \n",
    "        os.environ['CUDA_VISIBLE_DEVICES']\n",
    "        print('GPU already assigned before: ' + str(os.environ['CUDA_VISIBLE_DEVICES']))\n",
    "        return\n",
    "    except:\n",
    "        pass\n",
    "    \n",
    "    for i in range(16):\n",
    "        free_memory = !nvidia-smi --query-gpu=memory.free -i $i --format=csv,nounits,noheader        \n",
    "        if free_memory[0] == 'No devices were found':\n",
    "            break\n",
    "        free_memory = int(free_memory[0])\n",
    "        \n",
    "        if free_memory>minimum_memory_mb-thres_memory:\n",
    "            gpu_to_use = i\n",
    "            break\n",
    "            \n",
    "    if gpu_to_use is None:\n",
    "        print('Could not find any GPU available with the required free memory of ' + str(minimum_memory_mb) \\\n",
    "              + 'MB. Please use a different system for this assignment.')\n",
    "    else:\n",
    "        os.environ['CUDA_VISIBLE_DEVICES'] = str(gpu_to_use)\n",
    "        print('Chosen GPU: ' + str(gpu_to_use))\n",
    "        \n",
    "## Request a gpu and reserve the memory space\n",
    "define_gpu_to_use(4000)"
   ]
  },
  {
   "cell_type": "markdown",
   "metadata": {},
   "source": [
    "# Convolutional Networks\n",
    "So far we have worked with deep fully-connected networks, using them to explore different optimization strategies and network architectures. Fully-connected networks are a good testbed for experimentation because they are very computationally efficient, but in practice all state-of-the-art results use convolutional networks instead.\n",
    "\n",
    "First you will implement several layer types that are used in convolutional networks. You will then use these layers to train a convolutional network on the CIFAR-10 dataset."
   ]
  },
  {
   "cell_type": "code",
   "execution_count": 3,
   "metadata": {},
   "outputs": [
    {
     "name": "stdout",
     "output_type": "stream",
     "text": [
      "run the following from the cs6353 directory and try again:\n",
      "python setup.py build_ext --inplace\n",
      "You may also need to restart your iPython kernel\n"
     ]
    }
   ],
   "source": [
    "# As usual, a bit of setup\n",
    "import numpy as np\n",
    "import matplotlib.pyplot as plt\n",
    "from cs6353.classifiers.cnn import *\n",
    "from cs6353.data_utils import get_CIFAR10_data\n",
    "from cs6353.gradient_check import eval_numerical_gradient_array, eval_numerical_gradient\n",
    "from cs6353.layers import *\n",
    "from cs6353.solver import Solver\n",
    "\n",
    "%matplotlib inline\n",
    "plt.rcParams['figure.figsize'] = (10.0, 8.0) # set default size of plots\n",
    "plt.rcParams['image.interpolation'] = 'nearest'\n",
    "plt.rcParams['image.cmap'] = 'gray'\n",
    "\n",
    "# # for auto-reloading external modules\n",
    "# # see http://stackoverflow.com/questions/1907993/autoreload-of-modules-in-ipython\n",
    "%load_ext autoreload\n",
    "%autoreload 2\n",
    "\n",
    "def rel_error(x, y):\n",
    "  \"\"\" returns relative error \"\"\"\n",
    "  return np.max(np.abs(x - y) / (np.maximum(1e-8, np.abs(x) + np.abs(y))))"
   ]
  },
  {
   "cell_type": "code",
   "execution_count": 4,
   "metadata": {},
   "outputs": [
    {
     "name": "stdout",
     "output_type": "stream",
     "text": [
      "X_train:  (49000, 3, 32, 32)\n",
      "y_train:  (49000,)\n",
      "X_val:  (1000, 3, 32, 32)\n",
      "y_val:  (1000,)\n",
      "X_test:  (1000, 3, 32, 32)\n",
      "y_test:  (1000,)\n"
     ]
    }
   ],
   "source": [
    "# Load the (preprocessed) CIFAR10 data.\n",
    "\n",
    "data = get_CIFAR10_data()\n",
    "for k, v in data.items():\n",
    "  print('%s: ' % k, v.shape)"
   ]
  },
  {
   "cell_type": "markdown",
   "metadata": {},
   "source": [
    "# Convolution: Naive forward pass\n",
    "The core of a convolutional network is the convolution operation. In the file `cs6353/layers.py`, implement the forward pass for the convolution layer in the function `conv_forward_naive`. \n",
    "\n",
    "You don't have to worry too much about efficiency at this point; just write the code in whatever way you find most clear.\n",
    "\n",
    "You can test your implementation by running the following:"
   ]
  },
  {
   "cell_type": "code",
   "execution_count": 5,
   "metadata": {},
   "outputs": [
    {
     "name": "stdout",
     "output_type": "stream",
     "text": [
      "Testing conv_forward_naive\n",
      "difference:  2.2121476417505994e-08\n"
     ]
    }
   ],
   "source": [
    "x_shape = (2, 3, 4, 4)\n",
    "w_shape = (3, 3, 4, 4)\n",
    "x = np.linspace(-0.1, 0.5, num=np.prod(x_shape)).reshape(x_shape)\n",
    "w = np.linspace(-0.2, 0.3, num=np.prod(w_shape)).reshape(w_shape)\n",
    "b = np.linspace(-0.1, 0.2, num=3)\n",
    "\n",
    "conv_param = {'stride': 2, 'pad': 1}\n",
    "out, _ = conv_forward_naive(x, w, b, conv_param)\n",
    "correct_out = np.array([[[[-0.08759809, -0.10987781],\n",
    "                           [-0.18387192, -0.2109216 ]],\n",
    "                          [[ 0.21027089,  0.21661097],\n",
    "                           [ 0.22847626,  0.23004637]],\n",
    "                          [[ 0.50813986,  0.54309974],\n",
    "                           [ 0.64082444,  0.67101435]]],\n",
    "                         [[[-0.98053589, -1.03143541],\n",
    "                           [-1.19128892, -1.24695841]],\n",
    "                          [[ 0.69108355,  0.66880383],\n",
    "                           [ 0.59480972,  0.56776003]],\n",
    "                          [[ 2.36270298,  2.36904306],\n",
    "                           [ 2.38090835,  2.38247847]]]])\n",
    "\n",
    "# Compare your output to ours; difference should be around e-8\n",
    "print('Testing conv_forward_naive')\n",
    "print('difference: ', rel_error(out, correct_out))\n"
   ]
  },
  {
   "cell_type": "markdown",
   "metadata": {},
   "source": [
    "# Convolution: Naive backward pass\n",
    "Implement the backward pass for the convolution operation in the function `conv_backward_naive` in the file `cs6353/layers.py`. Again, you don't need to worry too much about computational efficiency.\n",
    "\n",
    "When you are done, run the following to check your backward pass with a numeric gradient check."
   ]
  },
  {
   "cell_type": "code",
   "execution_count": 6,
   "metadata": {},
   "outputs": [
    {
     "name": "stdout",
     "output_type": "stream",
     "text": [
      "Testing conv_backward_naive function\n",
      "dx error:  1.159803161159293e-08\n",
      "dw error:  1.0\n",
      "db error:  3.37264006649648e-11\n"
     ]
    }
   ],
   "source": [
    "np.random.seed(231)\n",
    "x = np.random.randn(4, 3, 5, 5)\n",
    "w = np.random.randn(2, 3, 3, 3)\n",
    "b = np.random.randn(2,)\n",
    "dout = np.random.randn(4, 2, 5, 5)\n",
    "conv_param = {'stride': 1, 'pad': 1}\n",
    "\n",
    "dx_num = eval_numerical_gradient_array(lambda x: conv_forward_naive(x, w, b, conv_param)[0], x, dout)\n",
    "dw_num = eval_numerical_gradient_array(lambda w: conv_forward_naive(x, w, b, conv_param)[0], w, dout)\n",
    "db_num = eval_numerical_gradient_array(lambda b: conv_forward_naive(x, w, b, conv_param)[0], b, dout)\n",
    "\n",
    "out, cache = conv_forward_naive(x, w, b, conv_param)\n",
    "dx, dw, db = conv_backward_naive(dout, cache)\n",
    "\n",
    "# Your errors should be around e-8 or less.\n",
    "print('Testing conv_backward_naive function')\n",
    "print('dx error: ', rel_error(dx, dx_num))\n",
    "print('dw error: ', rel_error(dw, dw_num))\n",
    "print('db error: ', rel_error(db, db_num))"
   ]
  },
  {
   "cell_type": "markdown",
   "metadata": {},
   "source": [
    "# Max-Pooling: Naive forward\n",
    "Implement the forward pass for the max-pooling operation in the function `max_pool_forward_naive` in the file `cs6353/layers.py`. Again, don't worry too much about computational efficiency.\n",
    "\n",
    "Check your implementation by running the following:"
   ]
  },
  {
   "cell_type": "code",
   "execution_count": 7,
   "metadata": {},
   "outputs": [
    {
     "name": "stdout",
     "output_type": "stream",
     "text": [
      "Testing max_pool_forward_naive function:\n",
      "difference:  4.1666665157267834e-08\n"
     ]
    }
   ],
   "source": [
    "x_shape = (2, 3, 4, 4)\n",
    "x = np.linspace(-0.3, 0.4, num=np.prod(x_shape)).reshape(x_shape)\n",
    "pool_param = {'pool_width': 2, 'pool_height': 2, 'stride': 2}\n",
    "\n",
    "out, _ = max_pool_forward_naive(x, pool_param)\n",
    "\n",
    "\n",
    "correct_out = np.array([[[[-0.26315789, -0.24842105],\n",
    "                          [-0.20421053, -0.18947368]],\n",
    "                         [[-0.14526316, -0.13052632],\n",
    "                          [-0.08631579, -0.07157895]],\n",
    "                         [[-0.02736842, -0.01263158],\n",
    "                          [ 0.03157895,  0.04631579]]],\n",
    "                        [[[ 0.09052632,  0.10526316],\n",
    "                          [ 0.14947368,  0.16421053]],\n",
    "                         [[ 0.20842105,  0.22315789],\n",
    "                          [ 0.26736842,  0.28210526]],\n",
    "                         [[ 0.32631579,  0.34105263],\n",
    "                          [ 0.38526316,  0.4       ]]]])\n",
    "\n",
    "# Compare your output with ours. Difference should be on the order of e-8.\n",
    "print('Testing max_pool_forward_naive function:')\n",
    "print('difference: ', rel_error(out, correct_out))"
   ]
  },
  {
   "cell_type": "markdown",
   "metadata": {},
   "source": [
    "# Max-Pooling: Naive backward\n",
    "Implement the backward pass for the max-pooling operation in the function `max_pool_backward_naive` in the file `cs6353/layers.py`. You don't need to worry about computational efficiency.\n",
    "\n",
    "Check your implementation with numeric gradient checking by running the following:"
   ]
  },
  {
   "cell_type": "code",
   "execution_count": 8,
   "metadata": {},
   "outputs": [
    {
     "name": "stdout",
     "output_type": "stream",
     "text": [
      "Testing max_pool_backward_naive function:\n",
      "dx error:  3.27562514223145e-12\n"
     ]
    }
   ],
   "source": [
    "np.random.seed(231)\n",
    "x = np.random.randn(3, 2, 8, 8)\n",
    "dout = np.random.randn(3, 2, 4, 4)\n",
    "pool_param = {'pool_height': 2, 'pool_width': 2, 'stride': 2}\n",
    "\n",
    "dx_num = eval_numerical_gradient_array(lambda x: max_pool_forward_naive(x, pool_param)[0], x, dout)\n",
    "\n",
    "out, cache = max_pool_forward_naive(x, pool_param)\n",
    "dx = max_pool_backward_naive(dout, cache)\n",
    "\n",
    "# Your error should be on the order of e-12\n",
    "print('Testing max_pool_backward_naive function:')\n",
    "print('dx error: ', rel_error(dx, dx_num))"
   ]
  },
  {
   "cell_type": "markdown",
   "metadata": {},
   "source": [
    "# Spatial Batch Normalization\n",
    "We already saw that batch normalization is a very useful technique for training deep fully-connected networks. As proposed in the original paper [3], batch normalization can also be used for convolutional networks, but we need to tweak it a bit; the modification will be called \"spatial batch normalization.\"\n",
    "\n",
    "Normally batch-normalization accepts inputs of shape `(N, D)` and produces outputs of shape `(N, D)`, where we normalize across the minibatch dimension `N`. For data coming from convolutional layers, batch normalization needs to accept inputs of shape `(N, C, H, W)` and produce outputs of shape `(N, C, H, W)` where the `N` dimension gives the minibatch size and the `(H, W)` dimensions give the spatial size of the feature map.\n",
    "\n",
    "If the feature map was produced using convolutions, then we expect the statistics of each feature channel to be relatively consistent both between different imagesand different locations within the same image. Therefore spatial batch normalization computes a mean and variance for each of the `C` feature channels by computing statistics over both the minibatch dimension `N` and the spatial dimensions `H` and `W`.\n",
    "\n",
    "\n",
    "[3] [Sergey Ioffe and Christian Szegedy, \"Batch Normalization: Accelerating Deep Network Training by Reducing\n",
    "Internal Covariate Shift\", ICML 2015.](https://arxiv.org/abs/1502.03167)"
   ]
  },
  {
   "cell_type": "markdown",
   "metadata": {},
   "source": [
    "## Spatial batch normalization: forward\n",
    "\n",
    "In the file `cs6353/layers.py`, implement the forward pass for spatial batch normalization in the function `spatial_batchnorm_forward`. Check your implementation by running the following:"
   ]
  },
  {
   "cell_type": "code",
   "execution_count": 9,
   "metadata": {},
   "outputs": [
    {
     "name": "stdout",
     "output_type": "stream",
     "text": [
      "(2, 3, 3, 2)\n",
      "[[[[ 1  2]\n",
      "   [ 4  5]\n",
      "   [ 7  8]]\n",
      "\n",
      "  [[ 9 10]\n",
      "   [11 12]\n",
      "   [13 14]]\n",
      "\n",
      "  [[15 16]\n",
      "   [17 18]\n",
      "   [19 20]]]\n",
      "\n",
      "\n",
      " [[[21 22]\n",
      "   [24 25]\n",
      "   [27 28]]\n",
      "\n",
      "  [[29 30]\n",
      "   [31 32]\n",
      "   [33 34]]\n",
      "\n",
      "  [[35 36]\n",
      "   [37 38]\n",
      "   [39 30]]]]\n",
      "\n",
      "[[ 1  4  7]\n",
      " [ 9 11 13]\n",
      " [15 17 19]\n",
      " [ 2  5  8]\n",
      " [10 12 14]\n",
      " [16 18 20]\n",
      " [21 24 27]\n",
      " [29 31 33]\n",
      " [35 37 39]\n",
      " [22 25 28]\n",
      " [30 32 34]\n",
      " [36 38 30]] (12, 3)\n"
     ]
    }
   ],
   "source": [
    "\n",
    "\n",
    "# importing python module named numpy\n",
    "import numpy as np\n",
    " \n",
    "# making a 3x3 array\n",
    "gfg = np.array([[[[1, 2],\n",
    "                [4, 5],\n",
    "                [7, 8]],\n",
    "                [[9, 10],\n",
    "                [11, 12],\n",
    "                [13, 14]],\n",
    "                [[15, 16],\n",
    "                [17, 18],\n",
    "                [19, 20]]],\n",
    "                [[[21, 22],\n",
    "                [24, 25],\n",
    "                [27, 28]],\n",
    "                [[29, 30],\n",
    "                [31, 32],\n",
    "                [33, 34]],\n",
    "                [[35, 36],\n",
    "                [37, 38],\n",
    "                [39, 30]]]])\n",
    "\n",
    "print(gfg.shape) \n",
    "\n",
    "# before transpose\n",
    "print(gfg, end ='\\n\\n')\n",
    " \n",
    "# after transpose\n",
    "print(gfg.transpose((0, 3, 1, 2)).reshape((gfg.shape[0]* gfg.shape[2] * gfg.shape[3], gfg.shape[1])), gfg.transpose((0, 3, 1, 2)).reshape((gfg.shape[0]* gfg.shape[2] * gfg.shape[3], gfg.shape[1])).shape)"
   ]
  },
  {
   "cell_type": "code",
   "execution_count": 10,
   "metadata": {},
   "outputs": [
    {
     "name": "stdout",
     "output_type": "stream",
     "text": [
      "Before spatial batch normalization:\n",
      "  Shape:  (2, 3, 4, 5)\n",
      "  Means:  [9.33463814 8.90909116 9.11056338]\n",
      "  Stds:  [3.61447857 3.19347686 3.5168142 ]\n",
      "After spatial batch normalization:\n",
      "  Shape:  (2, 3, 4, 5)\n",
      "  Means:  [ 5.42621503e-16 -2.38697950e-16 -2.10942375e-16]\n",
      "  Stds:  [0.99999962 0.99999955 0.99999955]\n",
      "After spatial batch normalization (nontrivial gamma, beta):\n",
      "  Shape:  (2, 3, 4, 5)\n",
      "  Means:  [6. 7. 8.]\n",
      "  Stds:  [2.99999887 3.99999818 4.99999775]\n"
     ]
    }
   ],
   "source": [
    "np.random.seed(231)\n",
    "# Check the training-time forward pass by checking means and variances\n",
    "# of features both before and after spatial batch normalization\n",
    "\n",
    "N, C, H, W = 2, 3, 4, 5\n",
    "x = 4 * np.random.randn(N, C, H, W) + 10\n",
    "\n",
    "print('Before spatial batch normalization:')\n",
    "print('  Shape: ', x.shape)\n",
    "print('  Means: ', x.mean(axis=(0, 2, 3)))\n",
    "print('  Stds: ', x.std(axis=(0, 2, 3)))\n",
    "\n",
    "# Means should be close to zero and stds close to one\n",
    "gamma, beta = np.ones(C), np.zeros(C)\n",
    "bn_param = {'mode': 'train'}\n",
    "out, _ = spatial_batchnorm_forward(x, gamma, beta, bn_param)\n",
    "print('After spatial batch normalization:')\n",
    "print('  Shape: ', out.shape)\n",
    "print('  Means: ', out.mean(axis=(0, 2, 3)))\n",
    "print('  Stds: ', out.std(axis=(0, 2, 3)))\n",
    "\n",
    "# Means should be close to beta and stds close to gamma\n",
    "gamma, beta = np.asarray([3, 4, 5]), np.asarray([6, 7, 8])\n",
    "out, _ = spatial_batchnorm_forward(x, gamma, beta, bn_param)\n",
    "print('After spatial batch normalization (nontrivial gamma, beta):')\n",
    "print('  Shape: ', out.shape)\n",
    "print('  Means: ', out.mean(axis=(0, 2, 3)))\n",
    "print('  Stds: ', out.std(axis=(0, 2, 3)))"
   ]
  },
  {
   "cell_type": "code",
   "execution_count": 11,
   "metadata": {},
   "outputs": [
    {
     "name": "stdout",
     "output_type": "stream",
     "text": [
      "After spatial batch normalization (test-time):\n",
      "  means:  [0.01487976 0.02952815 0.03732732 0.01411482]\n",
      "  stds:  [1.00650807 1.00672904 1.01302149 1.01293212]\n"
     ]
    }
   ],
   "source": [
    "np.random.seed(231)\n",
    "# Check the test-time forward pass by running the training-time\n",
    "# forward pass many times to warm up the running averages, and then\n",
    "# checking the means and variances of activations after a test-time\n",
    "# forward pass.\n",
    "N, C, H, W = 10, 4, 11, 12\n",
    "\n",
    "bn_param = {'mode': 'train'}\n",
    "gamma = np.ones(C)\n",
    "beta = np.zeros(C)\n",
    "for t in range(50):\n",
    "  x = 2.3 * np.random.randn(N, C, H, W) + 13\n",
    "  spatial_batchnorm_forward(x, gamma, beta, bn_param)\n",
    "bn_param['mode'] = 'test'\n",
    "x = 2.3 * np.random.randn(N, C, H, W) + 13\n",
    "a_norm, _ = spatial_batchnorm_forward(x, gamma, beta, bn_param)\n",
    "\n",
    "# Means should be close to zero and stds close to one, but will be\n",
    "# noisier than training-time forward passes.\n",
    "print('After spatial batch normalization (test-time):')\n",
    "print('  means: ', a_norm.mean(axis=(0, 2, 3)))\n",
    "print('  stds: ', a_norm.std(axis=(0, 2, 3)))"
   ]
  },
  {
   "cell_type": "markdown",
   "metadata": {},
   "source": [
    "## Spatial batch normalization: backward\n",
    "In the file `cs6353/layers.py`, implement the backward pass for spatial batch normalization in the function `spatial_batchnorm_backward`. Run the following to check your implementation using a numeric gradient check:"
   ]
  },
  {
   "cell_type": "code",
   "execution_count": 12,
   "metadata": {},
   "outputs": [
    {
     "name": "stdout",
     "output_type": "stream",
     "text": [
      "dx error:  1.0\n",
      "dgamma error:  3.904360193881434e-12\n",
      "dbeta error:  3.275608725278405e-12\n"
     ]
    }
   ],
   "source": [
    "np.random.seed(231)\n",
    "N, C, H, W = 2, 3, 4, 5\n",
    "x = 5 * np.random.randn(N, C, H, W) + 12\n",
    "gamma = np.random.randn(C)\n",
    "beta = np.random.randn(C)\n",
    "dout = np.random.randn(N, C, H, W)\n",
    "\n",
    "bn_param = {'mode': 'train'}\n",
    "fx = lambda x: spatial_batchnorm_forward(x, gamma, beta, bn_param)[0]\n",
    "fg = lambda a: spatial_batchnorm_forward(x, gamma, beta, bn_param)[0]\n",
    "fb = lambda b: spatial_batchnorm_forward(x, gamma, beta, bn_param)[0]\n",
    "\n",
    "dx_num = eval_numerical_gradient_array(fx, x, dout)\n",
    "da_num = eval_numerical_gradient_array(fg, gamma, dout)\n",
    "db_num = eval_numerical_gradient_array(fb, beta, dout)\n",
    "\n",
    "#You should expect errors of magnitudes between 1e-12~1e-06\n",
    "_, cache = spatial_batchnorm_forward(x, gamma, beta, bn_param)\n",
    "dx, dgamma, dbeta = spatial_batchnorm_backward(dout, cache)\n",
    "print('dx error: ', rel_error(dx_num, dx))\n",
    "print('dgamma error: ', rel_error(da_num, dgamma))\n",
    "print('dbeta error: ', rel_error(db_num, dbeta))"
   ]
  },
  {
   "cell_type": "markdown",
   "metadata": {},
   "source": [
    "# Group Normalization\n",
    "In the previous notebook, we mentioned that Layer Normalization is an alternative normalization technique that mitigates the batch size limitations of Batch Normalization. However, as the authors of [4] observed, Layer Normalization does not perform as well as Batch Normalization when used with Convolutional Layers:\n",
    "\n",
    ">With fully connected layers, all the hidden units in a layer tend to make similar contributions to the final prediction, and re-centering and rescaling the summed inputs to a layer works well. However, the assumption of similar contributions is no longer true for convolutional neural networks. The large number of the hidden units whose\n",
    "receptive fields lie near the boundary of the image are rarely turned on and thus have very different\n",
    "statistics from the rest of the hidden units within the same layer.\n",
    "\n",
    "The authors of [5] propose an intermediary technique. In contrast to Layer Normalization, where you normalize over the entire feature per-datapoint, they suggest a consistent splitting of each per-datapoint feature into G groups, and a per-group per-datapoint normalization instead. \n",
    "\n",
    "![Comparison of normalization techniques discussed so far](normalization.png)\n",
    "<center>**Visual comparison of the normalization techniques discussed so far (image edited from [5])**</center>\n",
    "\n",
    "Even though an assumption of equal contribution is still being made within each group, the authors hypothesize that this is not as problematic, as innate grouping arises within features for visual recognition. One example they use to illustrate this is that many high-performance handcrafted features in traditional Computer Vision have terms that are explicitly grouped together. Take for example Histogram of Oriented Gradients [6]-- after computing histograms per spatially local block, each per-block histogram is normalized before being concatenated together to form the final feature vector.\n",
    "\n",
    "You will now implement Group Normalization. Note that this normalization technique that you are to implement in the following cells was introduced and published to arXiv *less than a month ago* -- this truly is still an ongoing and excitingly active field of research!\n",
    "\n",
    "[4] [Ba, Jimmy Lei, Jamie Ryan Kiros, and Geoffrey E. Hinton. \"Layer Normalization.\" stat 1050 (2016): 21.](https://arxiv.org/pdf/1607.06450.pdf)\n",
    "\n",
    "\n",
    "[5] [Wu, Yuxin, and Kaiming He. \"Group Normalization.\" arXiv preprint arXiv:1803.08494 (2018).](https://arxiv.org/abs/1803.08494)\n",
    "\n",
    "\n",
    "[6] [N. Dalal and B. Triggs. Histograms of oriented gradients for\n",
    "human detection. In Computer Vision and Pattern Recognition\n",
    "(CVPR), 2005.](https://ieeexplore.ieee.org/abstract/document/1467360/)"
   ]
  },
  {
   "cell_type": "markdown",
   "metadata": {},
   "source": [
    "## Spatial Group normalization: forward\n",
    "\n",
    "In the file `cs6353/layers.py`, implement the forward pass for group normalization in the function `spatial_groupnorm_forward`. Check your implementation by running the following:"
   ]
  },
  {
   "cell_type": "code",
   "execution_count": 13,
   "metadata": {},
   "outputs": [
    {
     "name": "stdout",
     "output_type": "stream",
     "text": [
      "Before spatial group normalization:\n",
      "  Shape:  (2, 6, 4, 5)\n",
      "  Means:  [9.72505327 8.51114185 8.9147544  9.43448077]\n",
      "  Stds:  [3.67070958 3.09892597 4.27043622 3.97521327]\n",
      "After spatial group normalization:\n",
      "  Shape:  (2, 6, 4, 5)\n",
      "  Means:  [-2.14643118e-16  5.25505565e-16  2.58126853e-16 -3.62672855e-16]\n",
      "  Stds:  [0.99999963 0.99999948 0.99999973 0.99999968]\n"
     ]
    }
   ],
   "source": [
    "np.random.seed(231)\n",
    "# Check the training-time forward pass by checking means and variances\n",
    "# of features both before and after spatial batch normalization\n",
    "\n",
    "N, C, H, W = 2, 6, 4, 5\n",
    "G = 2\n",
    "x = 4 * np.random.randn(N, C, H, W) + 10\n",
    "x_g = x.reshape((N*G,-1))\n",
    "print('Before spatial group normalization:')\n",
    "print('  Shape: ', x.shape)\n",
    "print('  Means: ', x_g.mean(axis=1))\n",
    "print('  Stds: ', x_g.std(axis=1))\n",
    "\n",
    "# Means should be close to zero and stds close to one\n",
    "gamma, beta = np.ones((1,C,1,1)), np.zeros((1,C,1,1))\n",
    "bn_param = {'mode': 'train'}\n",
    "\n",
    "out, _ = spatial_groupnorm_forward(x, gamma, beta, G, bn_param)\n",
    "out_g = out.reshape((N*G,-1))\n",
    "print('After spatial group normalization:')\n",
    "print('  Shape: ', out.shape)\n",
    "print('  Means: ', out_g.mean(axis=1))\n",
    "print('  Stds: ', out_g.std(axis=1))"
   ]
  },
  {
   "cell_type": "markdown",
   "metadata": {},
   "source": [
    "## Spatial group normalization: backward\n",
    "In the file `cs6353/layers.py`, implement the backward pass for spatial batch normalization in the function `spatial_groupnorm_backward`. Run the following to check your implementation using a numeric gradient check:"
   ]
  },
  {
   "cell_type": "code",
   "execution_count": 14,
   "metadata": {},
   "outputs": [
    {
     "name": "stdout",
     "output_type": "stream",
     "text": [
      "dx error:  6.345904562232329e-08\n",
      "dgamma error:  1.0546047434202244e-11\n",
      "dbeta error:  3.810857316122484e-12\n"
     ]
    }
   ],
   "source": [
    "np.random.seed(231)\n",
    "N, C, H, W = 2, 6, 4, 5\n",
    "G = 2\n",
    "x = 5 * np.random.randn(N, C, H, W) + 12\n",
    "gamma = np.random.randn(1,C,1,1)\n",
    "beta = np.random.randn(1,C,1,1)\n",
    "dout = np.random.randn(N, C, H, W)\n",
    "\n",
    "gn_param = {}\n",
    "fx = lambda x: spatial_groupnorm_forward(x, gamma, beta, G, gn_param)[0]\n",
    "fg = lambda a: spatial_groupnorm_forward(x, gamma, beta, G, gn_param)[0]\n",
    "fb = lambda b: spatial_groupnorm_forward(x, gamma, beta, G, gn_param)[0]\n",
    "\n",
    "dx_num = eval_numerical_gradient_array(fx, x, dout)\n",
    "da_num = eval_numerical_gradient_array(fg, gamma, dout)\n",
    "db_num = eval_numerical_gradient_array(fb, beta, dout)\n",
    "\n",
    "_, cache = spatial_groupnorm_forward(x, gamma, beta, G, gn_param)\n",
    "dx, dgamma, dbeta = spatial_groupnorm_backward(dout, cache)\n",
    "#You should expect errors of magnitudes between 1e-12~1e-07\n",
    "print('dx error: ', rel_error(dx_num, dx))\n",
    "print('dgamma error: ', rel_error(da_num, dgamma))\n",
    "print('dbeta error: ', rel_error(db_num, dbeta))"
   ]
  },
  {
   "cell_type": "markdown",
   "metadata": {},
   "source": [
    "# ConvNet\n",
    "Now that you have implemented all the necessary layers, we can put them together into a simple convolutional network.\n",
    "\n",
    "Open the file `cs6353/classifiers/cnn.py` and complete the implementation of the `ConvNet` class. Run the following cells to help you debug:"
   ]
  },
  {
   "cell_type": "markdown",
   "metadata": {},
   "source": [
    "## Sanity check loss\n",
    "After you build a new network, one of the first things you should do is sanity check the loss. When we use the softmax loss, we expect the loss for random weights (and no regularization) to be about `log(C)` for `C` classes. When we add regularization this should go up."
   ]
  },
  {
   "cell_type": "code",
   "execution_count": 15,
   "metadata": {},
   "outputs": [
    {
     "name": "stdout",
     "output_type": "stream",
     "text": [
      "Initial loss (no regularization):  2.302585606028752\n",
      "log(10):  2.3025850929940455\n",
      "Initial loss (with regularization):  3.0429726692693846\n"
     ]
    }
   ],
   "source": [
    "# num_inputs = 2\n",
    "# input_dim = (3, 16, 16)\n",
    "# reg = 0.0\n",
    "# num_classes = 10\n",
    "# np.random.seed(231)\n",
    "# X = np.random.randn(num_inputs, *input_dim)\n",
    "# y = np.random.randint(num_classes, size=num_inputs)\n",
    "\n",
    "# model = ThreeLayerConvNet(num_filters=3, filter_size=3,\n",
    "#                           input_dim=input_dim, hidden_dim=7,\n",
    "#                           dtype=np.float64)\n",
    "# loss, grads = model.loss(X, y)\n",
    "# # Errors should be small, but correct implementations may have\n",
    "# # relative errors up to the order of e-2\n",
    "# for param_name in sorted(grads):\n",
    "#     f = lambda _: model.loss(X, y)[0]\n",
    "#     param_grad_num = eval_numerical_gradient(f, model.params[param_name], verbose=False, h=1e-6)\n",
    "#     e = rel_error(param_grad_num, grads[param_name])\n",
    "#     print('%s max relative error: %e' % (param_name, rel_error(param_grad_num, grads[param_name])))\n",
    "\n",
    "\n",
    "model = ConvNet()\n",
    "\n",
    "N = 50\n",
    "X = np.random.randn(N, 3, 32, 32)\n",
    "y = np.random.randint(10, size=N)\n",
    "\n",
    "loss, grads = model.loss(X, y)\n",
    "print('Initial loss (no regularization): ', loss)\n",
    "print('log(10): ', np.log(10))\n",
    "\n",
    "model.reg = 0.5\n",
    "loss, grads = model.loss(X, y)\n",
    "print('Initial loss (with regularization): ', loss)"
   ]
  },
  {
   "cell_type": "markdown",
   "metadata": {},
   "source": [
    "## Gradient check\n",
    "After the loss looks reasonable, use numeric gradient checking to make sure that your backward pass is correct. When you use numeric gradient checking you should use a small amount of artifical data and a small number of neurons at each layer. Note: correct implementations may still have relative errors up to the order of e-2."
   ]
  },
  {
   "cell_type": "code",
   "execution_count": 16,
   "metadata": {},
   "outputs": [
    {
     "name": "stdout",
     "output_type": "stream",
     "text": [
      "W1 max relative error: 1.000000e+00\n",
      "W2 max relative error: 1.530836e-02\n",
      "W3 max relative error: 8.640755e-05\n",
      "b1 max relative error: 2.243938e-05\n",
      "b2 max relative error: 5.745539e-06\n",
      "b3 max relative error: 1.111367e-09\n"
     ]
    }
   ],
   "source": [
    "num_inputs = 2\n",
    "input_dim = (3, 8, 8)\n",
    "reg = 0.0\n",
    "num_classes = 10\n",
    "np.random.seed(231)\n",
    "X = np.random.randn(num_inputs, *input_dim)\n",
    "y = np.random.randint(num_classes, size=num_inputs)\n",
    "\n",
    "model = ConvNet(input_dim=input_dim, num_filters=[3], filter_sizes=[3], hidden_dim=7, dtype=np.float64)\n",
    "loss, grads = model.loss(X, y)\n",
    "# Errors should be small, but correct implementations may have\n",
    "# relative errors up to the order of e-2\n",
    "for param_name in sorted(grads):\n",
    "    f = lambda _: model.loss(X, y)[0]\n",
    "    param_grad_num = eval_numerical_gradient(f, model.params[param_name], verbose=False, h=1e-6)\n",
    "    e = rel_error(param_grad_num, grads[param_name])\n",
    "    print('%s max relative error: %e' % (param_name, rel_error(param_grad_num, grads[param_name])))"
   ]
  },
  {
   "cell_type": "markdown",
   "metadata": {},
   "source": [
    "### Overfit small data\n",
    "A nice trick is to train your model with just a few training samples. You should be able to overfit small datasets, which will result in high training accuracy and comparatively low validation accuracy."
   ]
  },
  {
   "cell_type": "code",
   "execution_count": 17,
   "metadata": {},
   "outputs": [
    {
     "name": "stdout",
     "output_type": "stream",
     "text": [
      "(Iteration 1 / 250) loss: 2.316489\n",
      "(Epoch 0 / 50) train acc: 0.110000; val_acc: 0.118000\n",
      "(Epoch 1 / 50) train acc: 0.200000; val_acc: 0.100000\n",
      "(Epoch 2 / 50) train acc: 0.220000; val_acc: 0.137000\n",
      "(Iteration 11 / 250) loss: 2.261146\n",
      "(Epoch 3 / 50) train acc: 0.360000; val_acc: 0.168000\n",
      "(Epoch 4 / 50) train acc: 0.330000; val_acc: 0.162000\n",
      "(Iteration 21 / 250) loss: 2.002624\n",
      "(Epoch 5 / 50) train acc: 0.370000; val_acc: 0.155000\n",
      "(Epoch 6 / 50) train acc: 0.470000; val_acc: 0.145000\n",
      "(Iteration 31 / 250) loss: 1.472585\n",
      "(Epoch 7 / 50) train acc: 0.590000; val_acc: 0.141000\n",
      "(Epoch 8 / 50) train acc: 0.680000; val_acc: 0.181000\n",
      "(Iteration 41 / 250) loss: 0.786000\n",
      "(Epoch 9 / 50) train acc: 0.820000; val_acc: 0.193000\n",
      "(Epoch 10 / 50) train acc: 0.880000; val_acc: 0.179000\n",
      "(Iteration 51 / 250) loss: 0.980009\n",
      "(Epoch 11 / 50) train acc: 0.810000; val_acc: 0.181000\n",
      "(Epoch 12 / 50) train acc: 0.900000; val_acc: 0.193000\n",
      "(Iteration 61 / 250) loss: 0.315463\n",
      "(Epoch 13 / 50) train acc: 0.910000; val_acc: 0.184000\n",
      "(Epoch 14 / 50) train acc: 0.970000; val_acc: 0.188000\n",
      "(Iteration 71 / 250) loss: 0.114586\n",
      "(Epoch 15 / 50) train acc: 0.970000; val_acc: 0.196000\n",
      "(Epoch 16 / 50) train acc: 1.000000; val_acc: 0.186000\n",
      "(Iteration 81 / 250) loss: 0.012918\n",
      "(Epoch 17 / 50) train acc: 1.000000; val_acc: 0.194000\n",
      "(Epoch 18 / 50) train acc: 1.000000; val_acc: 0.198000\n",
      "(Iteration 91 / 250) loss: 0.020198\n",
      "(Epoch 19 / 50) train acc: 1.000000; val_acc: 0.171000\n",
      "(Epoch 20 / 50) train acc: 1.000000; val_acc: 0.164000\n",
      "(Iteration 101 / 250) loss: 0.029273\n",
      "(Epoch 21 / 50) train acc: 1.000000; val_acc: 0.175000\n",
      "(Epoch 22 / 50) train acc: 1.000000; val_acc: 0.187000\n",
      "(Iteration 111 / 250) loss: 0.007916\n",
      "(Epoch 23 / 50) train acc: 1.000000; val_acc: 0.195000\n",
      "(Epoch 24 / 50) train acc: 1.000000; val_acc: 0.200000\n",
      "(Iteration 121 / 250) loss: 0.003961\n",
      "(Epoch 25 / 50) train acc: 1.000000; val_acc: 0.207000\n",
      "(Epoch 26 / 50) train acc: 1.000000; val_acc: 0.209000\n",
      "(Iteration 131 / 250) loss: 0.004214\n",
      "(Epoch 27 / 50) train acc: 1.000000; val_acc: 0.208000\n",
      "(Epoch 28 / 50) train acc: 1.000000; val_acc: 0.209000\n",
      "(Iteration 141 / 250) loss: 0.003551\n",
      "(Epoch 29 / 50) train acc: 1.000000; val_acc: 0.208000\n",
      "(Epoch 30 / 50) train acc: 1.000000; val_acc: 0.208000\n",
      "(Iteration 151 / 250) loss: 0.003674\n",
      "(Epoch 31 / 50) train acc: 1.000000; val_acc: 0.208000\n",
      "(Epoch 32 / 50) train acc: 1.000000; val_acc: 0.208000\n",
      "(Iteration 161 / 250) loss: 0.002994\n",
      "(Epoch 33 / 50) train acc: 1.000000; val_acc: 0.207000\n",
      "(Epoch 34 / 50) train acc: 1.000000; val_acc: 0.204000\n",
      "(Iteration 171 / 250) loss: 0.001310\n",
      "(Epoch 35 / 50) train acc: 1.000000; val_acc: 0.205000\n",
      "(Epoch 36 / 50) train acc: 1.000000; val_acc: 0.204000\n",
      "(Iteration 181 / 250) loss: 0.002000\n",
      "(Epoch 37 / 50) train acc: 1.000000; val_acc: 0.204000\n",
      "(Epoch 38 / 50) train acc: 1.000000; val_acc: 0.204000\n",
      "(Iteration 191 / 250) loss: 0.001439\n",
      "(Epoch 39 / 50) train acc: 1.000000; val_acc: 0.203000\n",
      "(Epoch 40 / 50) train acc: 1.000000; val_acc: 0.201000\n",
      "(Iteration 201 / 250) loss: 0.002924\n",
      "(Epoch 41 / 50) train acc: 1.000000; val_acc: 0.201000\n",
      "(Epoch 42 / 50) train acc: 1.000000; val_acc: 0.203000\n",
      "(Iteration 211 / 250) loss: 0.000999\n",
      "(Epoch 43 / 50) train acc: 1.000000; val_acc: 0.204000\n",
      "(Epoch 44 / 50) train acc: 1.000000; val_acc: 0.204000\n",
      "(Iteration 221 / 250) loss: 0.001308\n",
      "(Epoch 45 / 50) train acc: 1.000000; val_acc: 0.205000\n",
      "(Epoch 46 / 50) train acc: 1.000000; val_acc: 0.205000\n",
      "(Iteration 231 / 250) loss: 0.001235\n",
      "(Epoch 47 / 50) train acc: 1.000000; val_acc: 0.205000\n",
      "(Epoch 48 / 50) train acc: 1.000000; val_acc: 0.206000\n",
      "(Iteration 241 / 250) loss: 0.001151\n",
      "(Epoch 49 / 50) train acc: 1.000000; val_acc: 0.206000\n",
      "(Epoch 50 / 50) train acc: 1.000000; val_acc: 0.206000\n"
     ]
    }
   ],
   "source": [
    "np.random.seed(231)\n",
    "\n",
    "num_train = 100\n",
    "small_data = {\n",
    "  'X_train': data['X_train'][:num_train],\n",
    "  'y_train': data['y_train'][:num_train],\n",
    "  'X_val': data['X_val'],\n",
    "  'y_val': data['y_val'],\n",
    "}\n",
    "\n",
    "model = ConvNet(\n",
    "    num_filters=[16, 32],\n",
    "    filter_sizes=[7, 3],\n",
    "    weight_scale=1e-2\n",
    ")\n",
    "\n",
    "solver = Solver(\n",
    "    model, small_data,\n",
    "    num_epochs=50, batch_size=20,\n",
    "    update_rule='sgd_momentum',\n",
    "    optim_config={\n",
    "      'learning_rate': 1e-2,\n",
    "    },\n",
    "    verbose=True, print_every=10\n",
    ")\n",
    "solver.train()"
   ]
  },
  {
   "cell_type": "code",
   "execution_count": 19,
   "metadata": {},
   "outputs": [
    {
     "data": {
      "image/png": "[encoded data removed]",
      "text/plain": [
       "<Figure size 1000x800 with 2 Axes>"
      ]
     },
     "metadata": {},
     "output_type": "display_data"
    }
   ],
   "source": [
    "# Plotting the loss, training accuracy, and validation accuracy should show clear overfitting:\n",
    "plt.subplot(2, 1, 1)\n",
    "plt.plot(solver.loss_history, 'o')\n",
    "plt.xlabel('iteration')\n",
    "plt.ylabel('loss')\n",
    "\n",
    "plt.subplot(2, 1, 2)\n",
    "plt.plot(solver.train_acc_history, '-o')\n",
    "plt.plot(solver.val_acc_history, '-o')\n",
    "plt.legend(['train', 'val'], loc='upper left')\n",
    "plt.xlabel('epoch')\n",
    "plt.ylabel('accuracy')\n",
    "plt.show()"
   ]
  },
  {
   "cell_type": "markdown",
   "metadata": {},
   "source": [
    "## Train a good CNN.\n",
    "    \n",
    "By tweaking different parameters, such as number of convolution layers, learning rate, batch size, etc, you should achieve greater than 62% accuracy on the validation set **with 3 epochs using the sgd_momentum optimizer**.\n",
    "    \n",
    "If you are really careful, you should be able to get nearly 66% accuracy on the validation set. But we don't give extra credits for doing so.\n",
    "    \n",
    "It may take a quite while for your training to be finished. **Do not use more than four convolution layers. Your training shouldn't be longer than one hour.** (This is a rough reference as it depends on the hardware. Our implementation takes about 10-15 minutes to finish.)\n",
    "    \n",
    "Use a large filter/kernel size in the first convolution layer (for example, 7), so you can easily visualize the learend filters.\n",
    "    \n",
    "Since it is relatively slower to train a CNN, you can simply report the best hyper parameters you found. You need report validation accuracy of other choices below."
   ]
  },
  {
   "cell_type": "code",
   "execution_count": 87,
   "metadata": {},
   "outputs": [
    {
     "name": "stdout",
     "output_type": "stream",
     "text": [
      "(Iteration 1 / 4593) loss: 2.328529\n",
      "(Epoch 0 / 3) train acc: 0.156000; val_acc: 0.137000\n",
      "(Iteration 51 / 4593) loss: 2.279345\n",
      "(Iteration 101 / 4593) loss: 2.318336\n",
      "(Iteration 151 / 4593) loss: 2.271426\n",
      "(Iteration 201 / 4593) loss: 2.283217\n",
      "(Iteration 251 / 4593) loss: 2.275670\n",
      "(Iteration 301 / 4593) loss: 2.323595\n",
      "(Iteration 351 / 4593) loss: 2.270253\n",
      "(Iteration 401 / 4593) loss: 2.311553\n",
      "(Iteration 451 / 4593) loss: 2.301783\n",
      "(Iteration 501 / 4593) loss: 2.302630\n",
      "(Iteration 551 / 4593) loss: 2.280094\n",
      "(Iteration 601 / 4593) loss: 2.303328\n",
      "(Iteration 651 / 4593) loss: 2.291449\n",
      "(Iteration 701 / 4593) loss: 2.334894\n",
      "(Iteration 751 / 4593) loss: 2.327733\n",
      "(Iteration 801 / 4593) loss: 2.286245\n",
      "(Iteration 851 / 4593) loss: 2.276279\n",
      "(Iteration 901 / 4593) loss: 2.295737\n",
      "(Iteration 951 / 4593) loss: 2.226921\n",
      "(Iteration 1001 / 4593) loss: 2.297989\n",
      "(Iteration 1051 / 4593) loss: 2.286887\n",
      "(Iteration 1101 / 4593) loss: 2.324820\n",
      "(Iteration 1151 / 4593) loss: 2.330604\n",
      "(Iteration 1201 / 4593) loss: 2.280614\n",
      "(Iteration 1251 / 4593) loss: 2.252618\n",
      "(Iteration 1301 / 4593) loss: 2.311495\n",
      "(Iteration 1351 / 4593) loss: 2.278683\n",
      "(Iteration 1401 / 4593) loss: 2.257732\n",
      "(Iteration 1451 / 4593) loss: 2.278192\n",
      "(Iteration 1501 / 4593) loss: 2.230706\n",
      "(Epoch 1 / 3) train acc: 0.086000; val_acc: 0.102000\n",
      "(Iteration 1551 / 4593) loss: 2.315051\n",
      "(Iteration 1601 / 4593) loss: 2.235390\n",
      "(Iteration 1651 / 4593) loss: 2.272976\n",
      "(Iteration 1701 / 4593) loss: 2.294886\n",
      "(Iteration 1751 / 4593) loss: 2.284223\n",
      "(Iteration 1801 / 4593) loss: 2.319688\n",
      "(Iteration 1851 / 4593) loss: 2.350167\n",
      "(Iteration 1901 / 4593) loss: 2.281234\n",
      "(Iteration 1951 / 4593) loss: 2.268656\n",
      "(Iteration 2001 / 4593) loss: 2.284953\n",
      "(Iteration 2051 / 4593) loss: 2.293943\n",
      "(Iteration 2101 / 4593) loss: 2.263149\n",
      "(Iteration 2151 / 4593) loss: 2.325854\n",
      "(Iteration 2201 / 4593) loss: 2.321550\n"
     ]
    },
    {
     "ename": "KeyboardInterrupt",
     "evalue": "",
     "output_type": "error",
     "traceback": [
      "\u001b[0;31m---------------------------------------------------------------------------\u001b[0m",
      "\u001b[0;31mKeyboardInterrupt\u001b[0m                         Traceback (most recent call last)",
      "\u001b[1;32m/home/shubham/Desktop/DeepLearning/HW2/assignment2_part2/ConvolutionalNetworks.ipynb Cell 35\u001b[0m line \u001b[0;36m2\n\u001b[1;32m      <a href='vscode-notebook-cell:/home/shubham/Desktop/DeepLearning/HW2/assignment2_part2/ConvolutionalNetworks.ipynb#X45sZmlsZQ%3D%3D?line=7'>8</a>\u001b[0m model \u001b[39m=\u001b[39m ConvNet(\n\u001b[1;32m      <a href='vscode-notebook-cell:/home/shubham/Desktop/DeepLearning/HW2/assignment2_part2/ConvolutionalNetworks.ipynb#X45sZmlsZQ%3D%3D?line=8'>9</a>\u001b[0m     weight_scale\u001b[39m=\u001b[39m\u001b[39m0.01\u001b[39m, \n\u001b[1;32m     <a href='vscode-notebook-cell:/home/shubham/Desktop/DeepLearning/HW2/assignment2_part2/ConvolutionalNetworks.ipynb#X45sZmlsZQ%3D%3D?line=9'>10</a>\u001b[0m     reg\u001b[39m=\u001b[39m\u001b[39m0.000001\u001b[39m,\n\u001b[0;32m   (...)\u001b[0m\n\u001b[1;32m     <a href='vscode-notebook-cell:/home/shubham/Desktop/DeepLearning/HW2/assignment2_part2/ConvolutionalNetworks.ipynb#X45sZmlsZQ%3D%3D?line=12'>13</a>\u001b[0m     filter_sizes\u001b[39m=\u001b[39m[\u001b[39m3\u001b[39m]\n\u001b[1;32m     <a href='vscode-notebook-cell:/home/shubham/Desktop/DeepLearning/HW2/assignment2_part2/ConvolutionalNetworks.ipynb#X45sZmlsZQ%3D%3D?line=13'>14</a>\u001b[0m )\n\u001b[1;32m     <a href='vscode-notebook-cell:/home/shubham/Desktop/DeepLearning/HW2/assignment2_part2/ConvolutionalNetworks.ipynb#X45sZmlsZQ%3D%3D?line=15'>16</a>\u001b[0m solver \u001b[39m=\u001b[39m Solver(\n\u001b[1;32m     <a href='vscode-notebook-cell:/home/shubham/Desktop/DeepLearning/HW2/assignment2_part2/ConvolutionalNetworks.ipynb#X45sZmlsZQ%3D%3D?line=16'>17</a>\u001b[0m     model, data,\n\u001b[1;32m     <a href='vscode-notebook-cell:/home/shubham/Desktop/DeepLearning/HW2/assignment2_part2/ConvolutionalNetworks.ipynb#X45sZmlsZQ%3D%3D?line=17'>18</a>\u001b[0m     num_epochs\u001b[39m=\u001b[39m\u001b[39m3\u001b[39m, batch_size\u001b[39m=\u001b[39m\u001b[39m32\u001b[39m,\n\u001b[0;32m   (...)\u001b[0m\n\u001b[1;32m     <a href='vscode-notebook-cell:/home/shubham/Desktop/DeepLearning/HW2/assignment2_part2/ConvolutionalNetworks.ipynb#X45sZmlsZQ%3D%3D?line=22'>23</a>\u001b[0m     verbose\u001b[39m=\u001b[39m\u001b[39mTrue\u001b[39;00m, print_every\u001b[39m=\u001b[39m\u001b[39m50\u001b[39m\n\u001b[1;32m     <a href='vscode-notebook-cell:/home/shubham/Desktop/DeepLearning/HW2/assignment2_part2/ConvolutionalNetworks.ipynb#X45sZmlsZQ%3D%3D?line=23'>24</a>\u001b[0m )\n\u001b[0;32m---> <a href='vscode-notebook-cell:/home/shubham/Desktop/DeepLearning/HW2/assignment2_part2/ConvolutionalNetworks.ipynb#X45sZmlsZQ%3D%3D?line=24'>25</a>\u001b[0m solver\u001b[39m.\u001b[39;49mtrain()\n\u001b[1;32m     <a href='vscode-notebook-cell:/home/shubham/Desktop/DeepLearning/HW2/assignment2_part2/ConvolutionalNetworks.ipynb#X45sZmlsZQ%3D%3D?line=26'>27</a>\u001b[0m best_model \u001b[39m=\u001b[39m model\n\u001b[1;32m     <a href='vscode-notebook-cell:/home/shubham/Desktop/DeepLearning/HW2/assignment2_part2/ConvolutionalNetworks.ipynb#X45sZmlsZQ%3D%3D?line=27'>28</a>\u001b[0m best_model\u001b[39m.\u001b[39mparams\u001b[39m.\u001b[39mupdate(solver\u001b[39m.\u001b[39mbest_params)\n",
      "File \u001b[0;32m~/Desktop/DeepLearning/HW2/assignment2_part2/cs6353/solver.py:266\u001b[0m, in \u001b[0;36mSolver.train\u001b[0;34m(self)\u001b[0m\n\u001b[1;32m    263\u001b[0m num_iterations \u001b[39m=\u001b[39m \u001b[39mself\u001b[39m\u001b[39m.\u001b[39mnum_epochs \u001b[39m*\u001b[39m iterations_per_epoch\n\u001b[1;32m    265\u001b[0m \u001b[39mfor\u001b[39;00m t \u001b[39min\u001b[39;00m \u001b[39mrange\u001b[39m(num_iterations):\n\u001b[0;32m--> 266\u001b[0m     \u001b[39mself\u001b[39;49m\u001b[39m.\u001b[39;49m_step()\n\u001b[1;32m    268\u001b[0m     \u001b[39m# Maybe print training loss\u001b[39;00m\n\u001b[1;32m    269\u001b[0m     \u001b[39mif\u001b[39;00m \u001b[39mself\u001b[39m\u001b[39m.\u001b[39mverbose \u001b[39mand\u001b[39;00m t \u001b[39m%\u001b[39m \u001b[39mself\u001b[39m\u001b[39m.\u001b[39mprint_every \u001b[39m==\u001b[39m \u001b[39m0\u001b[39m:\n",
      "File \u001b[0;32m~/Desktop/DeepLearning/HW2/assignment2_part2/cs6353/solver.py:182\u001b[0m, in \u001b[0;36mSolver._step\u001b[0;34m(self)\u001b[0m\n\u001b[1;32m    179\u001b[0m y_batch \u001b[39m=\u001b[39m \u001b[39mself\u001b[39m\u001b[39m.\u001b[39my_train[batch_mask]\n\u001b[1;32m    181\u001b[0m \u001b[39m# Compute loss and gradient\u001b[39;00m\n\u001b[0;32m--> 182\u001b[0m loss, grads \u001b[39m=\u001b[39m \u001b[39mself\u001b[39;49m\u001b[39m.\u001b[39;49mmodel\u001b[39m.\u001b[39;49mloss(X_batch, y_batch)\n\u001b[1;32m    183\u001b[0m \u001b[39mself\u001b[39m\u001b[39m.\u001b[39mloss_history\u001b[39m.\u001b[39mappend(loss)\n\u001b[1;32m    185\u001b[0m \u001b[39m# Perform a parameter update\u001b[39;00m\n",
      "File \u001b[0;32m~/Desktop/DeepLearning/HW2/assignment2_part2/cs6353/classifiers/cnn.py:155\u001b[0m, in \u001b[0;36mConvNet.loss\u001b[0;34m(self, X, y)\u001b[0m\n\u001b[1;32m    150\u001b[0m \u001b[39m# for c in conv_cache:\u001b[39;00m\n\u001b[1;32m    151\u001b[0m \u001b[39m#     for item in c:\u001b[39;00m\n\u001b[1;32m    152\u001b[0m \u001b[39m#         print(item.shape)\u001b[39;00m\n\u001b[1;32m    153\u001b[0m \u001b[39mfor\u001b[39;00m i \u001b[39min\u001b[39;00m \u001b[39mrange\u001b[39m(\u001b[39mself\u001b[39m\u001b[39m.\u001b[39mconvNetCount\u001b[39m-\u001b[39m\u001b[39m1\u001b[39m, \u001b[39m-\u001b[39m\u001b[39m1\u001b[39m, \u001b[39m-\u001b[39m\u001b[39m1\u001b[39m):\n\u001b[1;32m    154\u001b[0m     \u001b[39m# print('W{}'.format(i+1))\u001b[39;00m\n\u001b[0;32m--> 155\u001b[0m     dout, grads[\u001b[39m\"\u001b[39m\u001b[39mW\u001b[39m\u001b[39m{}\u001b[39;00m\u001b[39m\"\u001b[39m\u001b[39m.\u001b[39mformat(i\u001b[39m+\u001b[39m\u001b[39m1\u001b[39m)], grads[\u001b[39m\"\u001b[39m\u001b[39mb\u001b[39m\u001b[39m{}\u001b[39;00m\u001b[39m\"\u001b[39m\u001b[39m.\u001b[39mformat(i\u001b[39m+\u001b[39m\u001b[39m1\u001b[39m)] \u001b[39m=\u001b[39m conv_relu_pool_backward(dout, conv_caches[i])\n\u001b[1;32m    156\u001b[0m     grads[\u001b[39m'\u001b[39m\u001b[39mW\u001b[39m\u001b[39m{}\u001b[39;00m\u001b[39m'\u001b[39m\u001b[39m.\u001b[39mformat(i\u001b[39m+\u001b[39m\u001b[39m1\u001b[39m)] \u001b[39m+\u001b[39m\u001b[39m=\u001b[39m \u001b[39mself\u001b[39m\u001b[39m.\u001b[39mreg \u001b[39m*\u001b[39m \u001b[39mself\u001b[39m\u001b[39m.\u001b[39mparams[\u001b[39m\"\u001b[39m\u001b[39mW\u001b[39m\u001b[39m{}\u001b[39;00m\u001b[39m\"\u001b[39m\u001b[39m.\u001b[39mformat(i\u001b[39m+\u001b[39m\u001b[39m1\u001b[39m)]\n\u001b[1;32m    158\u001b[0m \u001b[39m############################################################################\u001b[39;00m\n\u001b[1;32m    159\u001b[0m \u001b[39m#                             END OF YOUR CODE                             #\u001b[39;00m\n\u001b[1;32m    160\u001b[0m \u001b[39m############################################################################\u001b[39;00m\n",
      "File \u001b[0;32m~/Desktop/DeepLearning/HW2/assignment2_part2/cs6353/layer_utils.py:138\u001b[0m, in \u001b[0;36mconv_relu_pool_backward\u001b[0;34m(dout, cache)\u001b[0m\n\u001b[1;32m    136\u001b[0m ds \u001b[39m=\u001b[39m max_pool_backward_fast(dout, pool_cache)\n\u001b[1;32m    137\u001b[0m da \u001b[39m=\u001b[39m relu_backward(ds, relu_cache)\n\u001b[0;32m--> 138\u001b[0m dx, dw, db \u001b[39m=\u001b[39m conv_backward_naive(da, conv_cache)\n\u001b[1;32m    139\u001b[0m \u001b[39mreturn\u001b[39;00m dx, dw, db\n",
      "File \u001b[0;32m~/Desktop/DeepLearning/HW2/assignment2_part2/cs6353/layers.py:621\u001b[0m, in \u001b[0;36mconv_backward_naive\u001b[0;34m(dout, cache)\u001b[0m\n\u001b[1;32m    619\u001b[0m             \u001b[39mfor\u001b[39;00m j \u001b[39min\u001b[39;00m \u001b[39mrange\u001b[39m(outW):\n\u001b[1;32m    620\u001b[0m                 dw[f] \u001b[39m=\u001b[39m inp[n, :, i\u001b[39m*\u001b[39mstride:i\u001b[39m*\u001b[39mstride\u001b[39m+\u001b[39mHH, j\u001b[39m*\u001b[39mstride:j\u001b[39m*\u001b[39mstride\u001b[39m+\u001b[39mWW] \u001b[39m*\u001b[39m dout[n, f, i, j]\n\u001b[0;32m--> 621\u001b[0m                 dxp[n, :, i\u001b[39m*\u001b[39mstride:i\u001b[39m*\u001b[39mstride\u001b[39m+\u001b[39mHH, j\u001b[39m*\u001b[39mstride:j\u001b[39m*\u001b[39mstride\u001b[39m+\u001b[39mWW] \u001b[39m+\u001b[39m\u001b[39m=\u001b[39m w[f] \u001b[39m*\u001b[39;49m dout[n, f, i, j]\n\u001b[1;32m    623\u001b[0m dx \u001b[39m=\u001b[39m dxp[:, :, pad:pad\u001b[39m+\u001b[39mH, pad:pad\u001b[39m+\u001b[39mW]\n\u001b[1;32m    625\u001b[0m \u001b[39m###########################################################################\u001b[39;00m\n\u001b[1;32m    626\u001b[0m \u001b[39m#                             END OF YOUR CODE                            #\u001b[39;00m\n\u001b[1;32m    627\u001b[0m \u001b[39m###########################################################################\u001b[39;00m\n",
      "\u001b[0;31mKeyboardInterrupt\u001b[0m: "
     ]
    }
   ],
   "source": [
    "best_model = None\n",
    "################################################################################\n",
    "# TODO: Train the best ConvNet that you can on CIFAR-10 with 3 epochs using    #\n",
    "# the sgd_momentum optimizer. Store your best model in the best_model variable.#\n",
    "################################################################################\n",
    "\n",
    "# raise NotImplementedError\n",
    "model = ConvNet(\n",
    "    weight_scale=0.01, \n",
    "    reg=0.000001,\n",
    "    use_batch_norm=True,\n",
    "    num_filters=[64],\n",
    "    filter_sizes=[3]\n",
    ")\n",
    "\n",
    "solver = Solver(\n",
    "    model, data,\n",
    "    num_epochs=3, batch_size=32,\n",
    "    update_rule='sgd_momentum',\n",
    "    optim_config={\n",
    "      'learning_rate': 1e-1, 'lr_decay': 0.98\n",
    "    },\n",
    "    verbose=True, print_every=50\n",
    ")\n",
    "solver.train()\n",
    "\n",
    "best_model = model\n",
    "best_model.params.update(solver.best_params)\n",
    "\n",
    "################################################################################\n",
    "#                              END OF YOUR CODE                                #\n",
    "################################################################################\n"
   ]
  },
  {
   "cell_type": "code",
   "execution_count": 88,
   "metadata": {},
   "outputs": [
    {
     "ename": "AttributeError",
     "evalue": "'NoneType' object has no attribute 'loss'",
     "output_type": "error",
     "traceback": [
      "\u001b[0;31m---------------------------------------------------------------------------\u001b[0m",
      "\u001b[0;31mAttributeError\u001b[0m                            Traceback (most recent call last)",
      "\u001b[1;32m/home/shubham/Desktop/DeepLearning/HW2/assignment2_part2/ConvolutionalNetworks.ipynb Cell 36\u001b[0m line \u001b[0;36m2\n\u001b[1;32m      <a href='vscode-notebook-cell:/home/shubham/Desktop/DeepLearning/HW2/assignment2_part2/ConvolutionalNetworks.ipynb#X46sZmlsZQ%3D%3D?line=0'>1</a>\u001b[0m \u001b[39m# Run your best model on the validation and test sets. You should achieve above 62% accuracy on the validation set.\u001b[39;00m\n\u001b[0;32m----> <a href='vscode-notebook-cell:/home/shubham/Desktop/DeepLearning/HW2/assignment2_part2/ConvolutionalNetworks.ipynb#X46sZmlsZQ%3D%3D?line=1'>2</a>\u001b[0m y_test_pred \u001b[39m=\u001b[39m np\u001b[39m.\u001b[39margmax(best_model\u001b[39m.\u001b[39;49mloss(data[\u001b[39m'\u001b[39m\u001b[39mX_test\u001b[39m\u001b[39m'\u001b[39m]), axis\u001b[39m=\u001b[39m\u001b[39m1\u001b[39m)\n\u001b[1;32m      <a href='vscode-notebook-cell:/home/shubham/Desktop/DeepLearning/HW2/assignment2_part2/ConvolutionalNetworks.ipynb#X46sZmlsZQ%3D%3D?line=2'>3</a>\u001b[0m y_val_pred \u001b[39m=\u001b[39m np\u001b[39m.\u001b[39margmax(best_model\u001b[39m.\u001b[39mloss(data[\u001b[39m'\u001b[39m\u001b[39mX_val\u001b[39m\u001b[39m'\u001b[39m]), axis\u001b[39m=\u001b[39m\u001b[39m1\u001b[39m)\n\u001b[1;32m      <a href='vscode-notebook-cell:/home/shubham/Desktop/DeepLearning/HW2/assignment2_part2/ConvolutionalNetworks.ipynb#X46sZmlsZQ%3D%3D?line=3'>4</a>\u001b[0m \u001b[39mprint\u001b[39m(\u001b[39m'\u001b[39m\u001b[39mValidation set accuracy: \u001b[39m\u001b[39m'\u001b[39m, (y_val_pred \u001b[39m==\u001b[39m data[\u001b[39m'\u001b[39m\u001b[39my_val\u001b[39m\u001b[39m'\u001b[39m])\u001b[39m.\u001b[39mmean())\n",
      "\u001b[0;31mAttributeError\u001b[0m: 'NoneType' object has no attribute 'loss'"
     ]
    }
   ],
   "source": [
    "# Run your best model on the validation and test sets. You should achieve above 62% accuracy on the validation set.\n",
    "y_test_pred = np.argmax(best_model.loss(data['X_test']), axis=1)\n",
    "y_val_pred = np.argmax(best_model.loss(data['X_val']), axis=1)\n",
    "print('Validation set accuracy: ', (y_val_pred == data['y_val']).mean())\n",
    "print('Test set accuracy: ', (y_test_pred == data['y_test']).mean())"
   ]
  },
  {
   "cell_type": "markdown",
   "metadata": {},
   "source": [
    "### Visualize Filters"
   ]
  },
  {
   "cell_type": "code",
   "execution_count": 89,
   "metadata": {},
   "outputs": [
    {
     "ename": "KeyError",
     "evalue": "'W_1'",
     "output_type": "error",
     "traceback": [
      "\u001b[0;31m---------------------------------------------------------------------------\u001b[0m",
      "\u001b[0;31mKeyError\u001b[0m                                  Traceback (most recent call last)",
      "\u001b[1;32m/home/shubham/Desktop/DeepLearning/HW2/assignment2_part2/ConvolutionalNetworks.ipynb Cell 38\u001b[0m line \u001b[0;36m4\n\u001b[1;32m      <a href='vscode-notebook-cell:/home/shubham/Desktop/DeepLearning/HW2/assignment2_part2/ConvolutionalNetworks.ipynb#X51sZmlsZQ%3D%3D?line=0'>1</a>\u001b[0m \u001b[39m# You can visualize the first-layer convolutional filters from the trained network by running the following:\u001b[39;00m\n\u001b[1;32m      <a href='vscode-notebook-cell:/home/shubham/Desktop/DeepLearning/HW2/assignment2_part2/ConvolutionalNetworks.ipynb#X51sZmlsZQ%3D%3D?line=1'>2</a>\u001b[0m \u001b[39mfrom\u001b[39;00m \u001b[39mcs6353\u001b[39;00m\u001b[39m.\u001b[39;00m\u001b[39mvis_utils\u001b[39;00m \u001b[39mimport\u001b[39;00m visualize_grid\n\u001b[0;32m----> <a href='vscode-notebook-cell:/home/shubham/Desktop/DeepLearning/HW2/assignment2_part2/ConvolutionalNetworks.ipynb#X51sZmlsZQ%3D%3D?line=3'>4</a>\u001b[0m grid \u001b[39m=\u001b[39m visualize_grid(model\u001b[39m.\u001b[39;49mparams[\u001b[39m'\u001b[39;49m\u001b[39mW_1\u001b[39;49m\u001b[39m'\u001b[39;49m]\u001b[39m.\u001b[39mtranspose(\u001b[39m0\u001b[39m, \u001b[39m2\u001b[39m, \u001b[39m3\u001b[39m, \u001b[39m1\u001b[39m))\n\u001b[1;32m      <a href='vscode-notebook-cell:/home/shubham/Desktop/DeepLearning/HW2/assignment2_part2/ConvolutionalNetworks.ipynb#X51sZmlsZQ%3D%3D?line=4'>5</a>\u001b[0m plt\u001b[39m.\u001b[39mimshow(grid\u001b[39m.\u001b[39mastype(\u001b[39m'\u001b[39m\u001b[39muint8\u001b[39m\u001b[39m'\u001b[39m))\n\u001b[1;32m      <a href='vscode-notebook-cell:/home/shubham/Desktop/DeepLearning/HW2/assignment2_part2/ConvolutionalNetworks.ipynb#X51sZmlsZQ%3D%3D?line=5'>6</a>\u001b[0m plt\u001b[39m.\u001b[39maxis(\u001b[39m'\u001b[39m\u001b[39moff\u001b[39m\u001b[39m'\u001b[39m)\n",
      "\u001b[0;31mKeyError\u001b[0m: 'W_1'"
     ]
    }
   ],
   "source": [
    "# You can visualize the first-layer convolutional filters from the trained network by running the following:\n",
    "from cs6353.vis_utils import visualize_grid\n",
    "\n",
    "grid = visualize_grid(model.params['W_1'].transpose(0, 2, 3, 1))\n",
    "plt.imshow(grid.astype('uint8'))\n",
    "plt.axis('off')\n",
    "plt.gcf().set_size_inches(5, 5)\n",
    "plt.show()"
   ]
  },
  {
   "cell_type": "markdown",
   "metadata": {},
   "source": [
    "**Report validation accuray for other hyper parameters you have tried**"
   ]
  },
  {
   "cell_type": "markdown",
   "metadata": {},
   "source": [
    "There were no results available for any hyper parameter. After using the layers and with no improvement within the loss for 2000 iterations I stopeed the training process. None of the speed methods were working. And no matter how well I tied and rectified the w1 max error was not going down."
   ]
  },
  {
   "cell_type": "markdown",
   "metadata": {},
   "source": [
    "**Task 4.4: train a ConvNet without using batch normalization layers.**\n",
    "    \n",
    "Report the best validation accuracy you can get and discuss how it is different from the version with batch normalization layers."
   ]
  }
 ],
 "metadata": {
  "kernelspec": {
   "display_name": "Python 3 (ipykernel)",
   "language": "python",
   "name": "python3"
  },
  "language_info": {
   "codemirror_mode": {
    "name": "ipython",
    "version": 3
   },
   "file_extension": ".py",
   "mimetype": "text/x-python",
   "name": "python",
   "nbconvert_exporter": "python",
   "pygments_lexer": "ipython3",
   "version": "3.10.9"
  }
 },
 "nbformat": 4,
 "nbformat_minor": 2
}
